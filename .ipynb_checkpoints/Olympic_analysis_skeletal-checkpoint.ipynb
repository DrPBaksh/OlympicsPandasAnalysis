{
 "cells": [
  {
   "cell_type": "markdown",
   "id": "d49c36d9-ac3b-4147-b96a-94ffa3164fb5",
   "metadata": {},
   "source": [
    "# Olympic Analysis Part 1"
   ]
  },
  {
   "cell_type": "markdown",
   "id": "946b6952-92cb-4bc3-95b0-a6341000ba62",
   "metadata": {},
   "source": [
    "## Supporting Material\n",
    "- Workbooks contained within this directory are *Olympic_analysis_complete.ipynb* and *Olympic_analysis_skeletal.ipynb*. It is intended that you work through the skeletal notebook using the vidoes (discussed below) as you wish.\n",
    "- Where ever there are .... in the sketetal notebook it is intended that you will the spaces with Python Code. If you are unsure go to the video or the complete notebook for the answer.\n",
    "- In the directory there are videos that walks through the solutions step by step as you work through the workbook. \n",
    "- Please note in Python / Pandas there are many methods to produce results. The solutions here are educiational and there could be more efficient methods to achieve the same goal "
   ]
  },
  {
   "cell_type": "markdown",
   "id": "dbca8a78-c5f3-489d-bf43-d5ce21223a4a",
   "metadata": {},
   "source": [
    "## Background\n",
    "This workbook is designed to improve your ability to use pandas and explore data to get insights. This first notebook will be on cleaning the data and exploring descriptive analytics. In later sections we shall explore predictive analytics on this dataset.\n",
    "The main dataset contains every athlete who partook in the modern olympic games. We shall bring in other datasets such as National Olympic Code and regions as well GDP"
   ]
  },
  {
   "cell_type": "markdown",
   "id": "9ec264f8-c2d2-46cd-9a53-95942862d127",
   "metadata": {},
   "source": [
    "## Sections\n",
    "\n",
    "- Explore and Clean the data\n",
    "- Data Visualisation : Partitipation by year for summer and winter games\n",
    "- Data Visualisaiton : Particpation in the summer games by gender\n",
    "- Data visualisation : Countries with the most participation at the games\n",
    "- Data visualisation : Investigate which country hosted the most games\n",
    "- Data visualisaton : Participation by geographic location\n",
    "- Medal Count analysis \n",
    "- Team size and medal Count "
   ]
  },
  {
   "cell_type": "code",
   "execution_count": null,
   "id": "68689dd3-499f-4509-8b11-cfa1f5c390ff",
   "metadata": {},
   "outputs": [],
   "source": [
    "from olympics_answers import Answers as ans\n",
    "import pandas as pd\n",
    "import numpy as np\n",
    "import matplotlib.pyplot as plt\n",
    "import seaborn as sns\n",
    "sns.set()"
   ]
  },
  {
   "cell_type": "markdown",
   "id": "154b42af-c975-4c86-8c22-452de6e38d75",
   "metadata": {},
   "source": [
    "### Explore and clean the data\n"
   ]
  },
  {
   "cell_type": "code",
   "execution_count": null,
   "id": "db125960-4bf7-4102-91d1-755ad35a41e6",
   "metadata": {},
   "outputs": [],
   "source": [
    "df =  ......................#  load in 'athlete_events.csv' using pandas csv read method. Call this dataframe df\n",
    "noc = ................... #  load in noc_regions.csv using pandas csv read method. Call this dataframe noc"
   ]
  },
  {
   "cell_type": "markdown",
   "id": "01cdd63f-5153-4897-abab-604617b9d397",
   "metadata": {},
   "source": [
    "Use Python Pandas Methods info head and descrive to explore both the datasets"
   ]
  },
  {
   "cell_type": "code",
   "execution_count": null,
   "id": "6afeeea7-621f-4b09-ad7e-1f978beec32e",
   "metadata": {},
   "outputs": [],
   "source": [
    "................ # use the .info method on df"
   ]
  },
  {
   "cell_type": "code",
   "execution_count": null,
   "id": "52b2b39f-ae5c-435b-994d-92aae9fd5619",
   "metadata": {},
   "outputs": [],
   "source": [
    ".............. # use the .describe method to get infomation on  numerical data"
   ]
  },
  {
   "cell_type": "code",
   "execution_count": null,
   "id": "3ea99ee7-e974-4c60-b011-a49c835f99a0",
   "metadata": {},
   "outputs": [],
   "source": [
    "............... # use the .head() method to get the first 5 rows"
   ]
  },
  {
   "cell_type": "markdown",
   "id": "e62a33b9-58b8-42b0-89e1-473c20623b8e",
   "metadata": {},
   "source": [
    "<div class=\"alert alert-block alert-warning\">\n",
    "<b>Question</b>\n",
    "q1 what is the age of the 5th record?<br>\n",
    "</div>"
   ]
  },
  {
   "cell_type": "code",
   "execution_count": null,
   "id": "8cf7e2f5-0587-4cb2-bc47-6d2b98e596bd",
   "metadata": {},
   "outputs": [],
   "source": [
    "# q1 what is the age of the 5th record \n",
    "# ans.q1_check_answer()\n",
    "# ans.q1_get_answer()"
   ]
  },
  {
   "cell_type": "markdown",
   "id": "57cbab41-2d95-45e6-bf7c-48a1770c5ac9",
   "metadata": {},
   "source": [
    "<div class=\"alert alert-block alert-warning\">\n",
    "<b>Question</b>\n",
    "q2 How many columns are there in the df dataset?<br>\n",
    "</div>"
   ]
  },
  {
   "cell_type": "code",
   "execution_count": null,
   "id": "90e9bee9-f9b7-4e68-a5ec-b75ca0092cc7",
   "metadata": {},
   "outputs": [],
   "source": [
    "# q2 How many columns are there in the df dataset\n",
    "# ans.q2_check_answer()\n",
    "# ans.q2_get_answer()"
   ]
  },
  {
   "cell_type": "markdown",
   "id": "18b06b72-91b9-478f-83a6-de9b216e2a88",
   "metadata": {},
   "source": [
    "<div class=\"alert alert-block alert-warning\">\n",
    "<b>Question</b>\n",
    "q3 What is the maximum age of the athlete ?<br>\n",
    "</div>"
   ]
  },
  {
   "cell_type": "code",
   "execution_count": null,
   "id": "a8ef8fe5-378a-4e16-8bd5-a39da2b053d4",
   "metadata": {},
   "outputs": [],
   "source": [
    "# q3 What is the maximum age of the athlete ?\n",
    "# ans.q3_check_answer()\n",
    "# ans.q3_get_answer()"
   ]
  },
  {
   "cell_type": "markdown",
   "id": "e340aff5-f8d0-4028-a173-1e450d3a8e3d",
   "metadata": {},
   "source": [
    "<div class=\"alert alert-block alert-warning\">\n",
    "<b>Question</b>\n",
    "q4 Investigate the records where the athlete was aged over 73. What sport did they do?<br>\n",
    "</div>"
   ]
  },
  {
   "cell_type": "code",
   "execution_count": null,
   "id": "080978e3-b979-41ac-9d0c-6e704cc26b3a",
   "metadata": {},
   "outputs": [],
   "source": [
    "# q4 Investigate the records where the athlete was aged over 73. What sport did they do?\n",
    "\n",
    "df[.......... > 73] # filter the df dataframe on the age column greater than 73\n",
    "\n",
    "# ans.q4_check_answer() # enter the sport as a string into the brackets\n",
    "# ans.q4_get_answer()"
   ]
  },
  {
   "cell_type": "code",
   "execution_count": null,
   "id": "acd1c1e6-9b83-4c86-b0bd-ca54e941c3cc",
   "metadata": {},
   "outputs": [],
   "source": [
    ".......  # use .info method to get infomation on noc "
   ]
  },
  {
   "cell_type": "code",
   "execution_count": null,
   "id": "789c22eb-b3eb-424c-ad7f-cf18fdcac623",
   "metadata": {},
   "outputs": [],
   "source": [
    "......... # # show first 5 records of noc. "
   ]
  },
  {
   "cell_type": "markdown",
   "id": "acddf180-8848-46ce-be50-9f4ed433d6b2",
   "metadata": {},
   "source": [
    "\n",
    "<div class=\"alert alert-block alert-warning\">\n",
    "<b>Question</b>\n",
    "q5 How many unique Country codes are there in both datasets?<br>\n",
    "</div>"
   ]
  },
  {
   "cell_type": "code",
   "execution_count": null,
   "id": "6f6a805d-e453-4bce-94a8-8b46c837a9d3",
   "metadata": {},
   "outputs": [],
   "source": [
    "...... , .......... #get the number of unique country codes for  each dataset . Explore the nunique function https://www.w3schools.com/python/pandas/ref_df_nunique.asp#:~:text=The%20nunique()%20method%20returns,unique%20values%20for%20each%20row."
   ]
  },
  {
   "cell_type": "code",
   "execution_count": null,
   "id": "aecb871f-be89-42b7-b190-ea239c0ee20f",
   "metadata": {},
   "outputs": [],
   "source": [
    "# ans.q5_check_answer()\n",
    "# ans.q5_get_answer()\n"
   ]
  },
  {
   "cell_type": "markdown",
   "id": "1bb9eb44-c01d-47b4-b767-fdd3114b5b0f",
   "metadata": {},
   "source": [
    "\n",
    "\n",
    "\n",
    "<div class=\"alert alert-block alert-warning\">\n",
    "<b>Question</b>\n",
    "q6 How many unique regions are in the dataset? <br>\n",
    "</div>"
   ]
  },
  {
   "cell_type": "code",
   "execution_count": null,
   "id": "fa2cf341-e7eb-41fd-8f71-2fa636ccdc1b",
   "metadata": {},
   "outputs": [],
   "source": [
    "....... # Check the number of unique regions in the noc dataset"
   ]
  },
  {
   "cell_type": "code",
   "execution_count": null,
   "id": "65d5d050-953e-43b2-8aa5-7c0c16a130f2",
   "metadata": {},
   "outputs": [],
   "source": [
    "# q6 : How many unique regions are in the noc dataset?\n",
    "# ans.q6_check_answer()\n",
    "# ans.q6_get_answer()"
   ]
  },
  {
   "cell_type": "markdown",
   "id": "2eb0cddd-5aff-4f4c-96d2-0a10a7d942a5",
   "metadata": {},
   "source": [
    "\n",
    "<div class=\"alert alert-block alert-warning\">\n",
    "<b>Question</b>\n",
    "q7  Can you explain why there are multiple NOC codes for every region ? <br>\n",
    "</div>"
   ]
  },
  {
   "cell_type": "code",
   "execution_count": null,
   "id": "0114916c-ed5f-4f24-9cb9-c5b222db30db",
   "metadata": {},
   "outputs": [],
   "source": [
    "print(.....) #  look at the value_counts for the region in noc . https://www.w3resource.com/pandas/series/series-value_counts.php\n",
    ".....  # try filtering the noc dataframe to only return region as Germany"
   ]
  },
  {
   "cell_type": "code",
   "execution_count": null,
   "id": "18d3e7ec-afd8-4e84-a8a5-aef3d2a33e6c",
   "metadata": {},
   "outputs": [],
   "source": [
    "# q7 : Can you explain why there are multiple NOC codes for every region\n",
    "# ans.q7_get_answer()"
   ]
  },
  {
   "cell_type": "markdown",
   "id": "24cfc7c8-98c9-4742-a80b-e93ea28f0b14",
   "metadata": {},
   "source": [
    "\n",
    "<div class=\"alert alert-block alert-warning\">\n",
    "<b>Question</b>\n",
    "q8   Are there duplicates in the dataset? If so how many duplicate records are there? <br>\n",
    "</div>"
   ]
  },
  {
   "cell_type": "code",
   "execution_count": null,
   "id": "41b59db6-59a8-475a-aaed-e4b0cb820edf",
   "metadata": {},
   "outputs": [],
   "source": [
    "# explore the .duplicated method. Attach a .sum() on the end of duplicated in order to get the total number \n",
    "# of duplicated records .  https://www.w3schools.com/python/pandas/ref_df_duplicated.asp#:~:text=Definition%20and%20Usage,considered%20when%20looking%20for%20duplicates.\n",
    "..... "
   ]
  },
  {
   "cell_type": "code",
   "execution_count": null,
   "id": "fd7cb24b-99be-41fc-8ef0-d1a0ad866f14",
   "metadata": {},
   "outputs": [],
   "source": [
    "# q8 : Are there duplicates in the dataset? If so how many duplicate records are there\n",
    "# ans.q8_check_answer()\n",
    "# ans.q8_get_answer()"
   ]
  },
  {
   "cell_type": "code",
   "execution_count": null,
   "id": "9d2df57f-5f8b-4950-93aa-dd54b262c6ce",
   "metadata": {},
   "outputs": [],
   "source": [
    "..... #  apply the drop duplicates methods on the frame df. Either reassign df to be this value or use the inplace keyword and set to True https://www.w3schools.com/python/pandas/pandas_cleaning_duplicates.asp\n"
   ]
  },
  {
   "cell_type": "markdown",
   "id": "852429ef-1ea3-4e81-ae78-394a3054aa28",
   "metadata": {},
   "source": [
    "\n",
    "<div class=\"alert alert-block alert-warning\">\n",
    "<b>Question</b>\n",
    " q9 how many records remian after dropping duplicate records?<br>\n",
    "</div>"
   ]
  },
  {
   "cell_type": "code",
   "execution_count": null,
   "id": "bb88e0f2-2d81-4dd5-9781-546ec5c0f3e6",
   "metadata": {},
   "outputs": [],
   "source": [
    "# q9 how many records remian after dropping duplicate records\n",
    "# ans.q9_check_answer()\n",
    "#ans.q9_get_answer()\n"
   ]
  },
  {
   "cell_type": "markdown",
   "id": "fa5a8c66-e884-42ee-8600-02ed9fb9cf87",
   "metadata": {},
   "source": [
    "Drop columns that you will not use in the analysis. In this case this is going to be the *notes* section from noc"
   ]
  },
  {
   "cell_type": "code",
   "execution_count": null,
   "id": "4c5aed66-19de-4654-83b0-79e5b72b5c0f",
   "metadata": {},
   "outputs": [],
   "source": [
    "..... #  use the drop method in pandas . remember to use inplace keyword https://www.w3schools.com/python/pandas/ref_df_drop.asp\n"
   ]
  },
  {
   "cell_type": "markdown",
   "id": "ac877005-7f17-441b-b13a-cc967fa27e03",
   "metadata": {},
   "source": [
    "<div class=\"alert alert-block alert-warning\">\n",
    "<b>Question</b>\n",
    " q10 Which field is the primary key of the noc table and the foreign key of the df table? <br>\n",
    "</div>"
   ]
  },
  {
   "cell_type": "markdown",
   "id": "bb36abcd-365c-4428-8c86-6636060d9fac",
   "metadata": {},
   "source": [
    "For our analysis later on we are going to want to see both the region next to each record. We therefore are going to have to use a command to join the two tables based on a common value"
   ]
  },
  {
   "cell_type": "code",
   "execution_count": null,
   "id": "22bd93b4-6588-41ea-aa9a-432750a1c535",
   "metadata": {},
   "outputs": [],
   "source": [
    "# q10 Which field is the primary key of the noc table and the foreign key of the df table?\n",
    "# ans.q10_check_answer()\n",
    "#ans.q10_get_answer()\n",
    "\n",
    "## onne to many on to one \n",
    "# validate "
   ]
  },
  {
   "cell_type": "code",
   "execution_count": null,
   "id": "15212288-a701-4122-86e5-4d75fcf81685",
   "metadata": {},
   "outputs": [],
   "source": [
    " #  join the tables on the primary and foreign key. use a left join in the method merge. \n",
    "    # https://www.w3schools.com/python/pandas/ref_df_merge.asp\n",
    "data = pd.merge(......,noc,how='left',on='NOC', validate = \"........\")\n",
    "    "
   ]
  },
  {
   "cell_type": "code",
   "execution_count": null,
   "id": "a9d86beb-4132-403d-bef8-4924463a4d33",
   "metadata": {},
   "outputs": [],
   "source": [
    "data........()..........() #  find null values in the dataset. Find the amount of null values for each column. use isnull method. Remeber to sum these to get a count of them"
   ]
  },
  {
   "cell_type": "markdown",
   "id": "8a41539d-712b-4c9b-a049-6a17324cb9f8",
   "metadata": {},
   "source": [
    "\n",
    "<div class=\"alert alert-block alert-warning\">\n",
    "<b>Question</b>\n",
    "q11 How many Null values are there in the height column? <br>\n",
    "</div>"
   ]
  },
  {
   "cell_type": "code",
   "execution_count": null,
   "id": "22962a28-f7d0-4a7e-9058-9493fdc4a900",
   "metadata": {},
   "outputs": [],
   "source": [
    "# q11 How many Null values are there in the height column?\n",
    "# ans.q11_check_answer()\n",
    "#ans.q11_get_answer()"
   ]
  },
  {
   "cell_type": "markdown",
   "id": "ac559683-3e3a-475b-995d-efa4a4c1b4c0",
   "metadata": {},
   "source": [
    "The Null values in the medal column do not represent missing data. They just show the fact that not all athletes one a medal.\n",
    "Lets therefore change the name of these null values to 'DNW' short for did not win"
   ]
  },
  {
   "cell_type": "code",
   "execution_count": null,
   "id": "cd5a5d34-46a7-4cbe-94eb-42463d149e81",
   "metadata": {},
   "outputs": [],
   "source": [
    "data['Medal'].replace(........) # use the replace method to replace Null values in medal table. Use np.NaN for Nill values. Change them to \"DNW\" .https://www.w3schools.com/python/ref_string_replace.asp"
   ]
  },
  {
   "cell_type": "code",
   "execution_count": null,
   "id": "365d25b0-349f-4e13-8caa-b454d36123cf",
   "metadata": {},
   "outputs": [],
   "source": [
    "..... # visualise the data with .head to confirm the change is there"
   ]
  },
  {
   "cell_type": "markdown",
   "id": "d15c3bfa-59a8-4f4c-b584-2a8db088e262",
   "metadata": {},
   "source": [
    "Many of the NOCs have multiple team names. Produce an output of the number of team names per noc. \\\n",
    "\n",
    "\n",
    "\n",
    "<div class=\"alert alert-block alert-warning\">\n",
    "<b>Question</b>\n",
    "q12 How many team names does FRA have? <br>\n",
    "</div>"
   ]
  },
  {
   "cell_type": "code",
   "execution_count": null,
   "id": "04101400-85e0-4768-afcd-55210a00933b",
   "metadata": {},
   "outputs": [],
   "source": [
    "# select all rows and ['NOC', 'Team'] columns using the loc command. Remove duplicates. Select only NOC column apply value_counts to get the frequency of team names per country\n",
    "data.loc[....., ['.....', '.......']]..............()['.......'].value_counts()    "
   ]
  },
  {
   "cell_type": "code",
   "execution_count": null,
   "id": "f899ef4b-b10f-4fda-a158-a0cc10bf88ce",
   "metadata": {},
   "outputs": [],
   "source": [
    "# q12 How many team names does FRA have?\n",
    "# ans.q12_check_answer()\n",
    "#ans.q12_get_answer()"
   ]
  },
  {
   "cell_type": "markdown",
   "id": "2c4c7406-1837-4064-81c0-06ee4428ae90",
   "metadata": {},
   "source": [
    "We discovered there that there are many team names for each NOC. However we do not need the team name as long as we have a region. We therefore are going to look at what region names are missing and then replace a missing value with one of the team names\n",
    "\n",
    "\n",
    "\n",
    "<div class=\"alert alert-block alert-warning\">\n",
    "<b>Question</b>\n",
    "q13 How many NOC codes do not have a region name ? <br>\n",
    "</div>"
   ]
  },
  {
   "cell_type": "code",
   "execution_count": null,
   "id": "fa3c7ae8-fd2a-4812-b89b-844ca574120c",
   "metadata": {},
   "outputs": [],
   "source": [
    "data.loc[   .......  ,['NOC', 'Team']].drop_duplicates() # select the data using loc command where the region is null, and show only the NOC and Team columns. \n",
    "# Drop duplicates of this output and apply the value_counts method"
   ]
  },
  {
   "cell_type": "code",
   "execution_count": null,
   "id": "464d3849-7b79-4afd-9578-c5733e43b25a",
   "metadata": {},
   "outputs": [],
   "source": [
    "# q12 How many NOC codes do not have a region name \n",
    "# ans.q13_check_answer()\n",
    "#ans.q13_get_answer()\n"
   ]
  },
  {
   "cell_type": "markdown",
   "id": "a0a7ba3c-2493-4440-9c4b-985ae9680e36",
   "metadata": {},
   "source": [
    "Are there any countries that do not have a region assosiated with them. If there are we can use one of their team names to replace the missing region. Let's investigate this\n",
    "\n"
   ]
  },
  {
   "cell_type": "code",
   "execution_count": null,
   "id": "43687f1f-c113-4cef-aba1-b842f4f95d63",
   "metadata": {},
   "outputs": [],
   "source": [
    "data['region'] = np.where(data['NOC']=='SGP', 'Singapore', data['region'])\n",
    "data['region'] = np.where(data['NOC']=='ROT', 'Refugee Olympic Athletes', data['region'])\n",
    "data['region'] = np.where(data['NOC']=='TUV', 'Tuvalu', data['region'])\n",
    "data['region'] = np.where(data['NOC']=='UNK', 'Unknown', data['region'])"
   ]
  },
  {
   "cell_type": "code",
   "execution_count": null,
   "id": "5571b903-10c5-4283-b28c-7b9923ffb864",
   "metadata": {},
   "outputs": [],
   "source": [
    "..... # view the data using .head()"
   ]
  },
  {
   "cell_type": "markdown",
   "id": "7596dfc6-9f4e-4936-8ef5-341e4a78c916",
   "metadata": {},
   "source": [
    "We now do not need team name so we can delete the team namae\n"
   ]
  },
  {
   "cell_type": "code",
   "execution_count": null,
   "id": "0eec4c15-50b5-4ef2-90f0-6f8bcf8a8864",
   "metadata": {},
   "outputs": [],
   "source": [
    "......  # drop team name from the data dataframe. Remeber to use the inplace method. "
   ]
  },
  {
   "cell_type": "markdown",
   "id": "74bf34c1-171c-4793-a1a2-295d0e1b3db2",
   "metadata": {},
   "source": [
    "We may wish to do some analysis on the host country so we need to add in a host country column and add values to it.\n",
    "Below I have a dictionary of cities and countries that can be used"
   ]
  },
  {
   "cell_type": "code",
   "execution_count": null,
   "id": "437ebcc8-155b-491a-924d-52d2e219a208",
   "metadata": {},
   "outputs": [],
   "source": [
    "country_dict = {'Athina':'Greece',\n",
    "                'Paris':'France',\n",
    "                'St. Louis':'USA',\n",
    "                'London':'UK',\n",
    "                'Stockholm':\"Sweden\",\n",
    "                'Antwerpen':'Belgium',\n",
    "                'Amsterdam':'Netherlands',\n",
    "                'Los Angeles':'USA',\n",
    "               'Berlin':'Germany',\n",
    "                'Helsinki':'Finland',\n",
    "                'Melbourne':'Australia',\n",
    "                'Roma':'Italy',\n",
    "                'Tokyo':'Japan',\n",
    "                'Mexico City':'Mexico',\n",
    "                'Munich':'Germany',\n",
    "                'Montreal':'Canada',\n",
    "                'Moskva':'Russia',\n",
    "                'Seoul':'South Korea',\n",
    "               'Barcelona':'Spain',\n",
    "               'Atlanta':'USA',\n",
    "               'Sydney':'Australia',\n",
    "               'Beijing':'China',\n",
    "               'Rio de Janeiro':'Brazil'}"
   ]
  },
  {
   "cell_type": "code",
   "execution_count": null,
   "id": "cf2cd9c0-54e7-44e2-a61b-8de315c68ed1",
   "metadata": {},
   "outputs": [],
   "source": [
    "data['Host_Country']=data['City'].map(............) # create a 'Host_Country' column and map the values from city in the data table to the country dic\n",
    "data.head() # view the top of the data"
   ]
  },
  {
   "cell_type": "code",
   "execution_count": null,
   "id": "28902df7-e883-489b-81b4-18a92cd04b10",
   "metadata": {},
   "outputs": [],
   "source": [
    "# rename the region column to \"Country\". Use the rename method and remember to keep inplace as True\n",
    "data.rename(..............)"
   ]
  },
  {
   "cell_type": "markdown",
   "id": "4125b02d-952d-4084-98fc-fa6fe07fb7e5",
   "metadata": {},
   "source": [
    "## *Initial data cleaning complete*"
   ]
  },
  {
   "cell_type": "markdown",
   "id": "b2878354-be09-4550-8f54-cd4e4a8d4620",
   "metadata": {},
   "source": [
    "### Athlete participation by year for summer and winter games\n"
   ]
  },
  {
   "cell_type": "markdown",
   "id": "0fbd8ae8-f06e-4dc8-a6f9-896dbf23a323",
   "metadata": {},
   "source": [
    "View first 5 records of winter games and in 2 cells below summer games "
   ]
  },
  {
   "cell_type": "code",
   "execution_count": null,
   "id": "bdff44b7-396d-4c19-8efc-6b3dbc10de5b",
   "metadata": {},
   "outputs": [],
   "source": [
    "data[data['Season'] == \"Winter\"].head() # view winter games using head"
   ]
  },
  {
   "cell_type": "code",
   "execution_count": null,
   "id": "567e541f-4389-4b9b-947e-334fa0e89c6e",
   "metadata": {},
   "outputs": [],
   "source": [
    "................. # view summer games using head"
   ]
  },
  {
   "cell_type": "markdown",
   "id": "ee751fc7-41b5-4d1c-b0cc-6ff4f938a1c9",
   "metadata": {},
   "source": [
    "<div class=\"alert alert-block alert-warning\">\n",
    "<b>Note</b>\n",
    "There are many ways to plot the same graph in Python. For these first plots we plot usin gmatplotlib however  you also know how to plot using seaborn and using plt directly from the dataframe. Feel free to plot using the method that most suites you  <br>\n",
    "</div>"
   ]
  },
  {
   "cell_type": "markdown",
   "id": "c87afd8d-1857-4622-ba97-5a2d690bcb6b",
   "metadata": {},
   "source": [
    "\n",
    "\n",
    "<div class=\"alert alert-block alert-warning\">\n",
    "<b>Question</b>\n",
    "q14 : Produce a plot that contains x axis of year and number of particiapnts on the y axis ? <br>\n",
    "</div>\n"
   ]
  },
  {
   "cell_type": "code",
   "execution_count": null,
   "id": "6e48b043-6a04-4533-9a4a-f04fbe031905",
   "metadata": {},
   "outputs": [],
   "source": [
    "data[data['Season'] == ......].groupby(by  = ......).nunique()# group the data by year for  summer \n",
    ".................   # group the data by year  winter\n",
    ".........................reset_index() # reset the index for the summer data\n",
    "........................... #reset the index on the winter frame \n"
   ]
  },
  {
   "cell_type": "code",
   "execution_count": null,
   "id": "4377a434-d1cb-4e7d-83e3-21bd868e22b7",
   "metadata": {},
   "outputs": [],
   "source": [
    "# Plot your graph here \n",
    "# Assign the last line of the last dataframe to df\n",
    "df = ......................\n",
    "plt.plot(df.Year, df.ID, '.-', linewidth = 2, marker = 10)\n",
    "plt.xlabel('Year')\n",
    "plt.ylabel('No Competitors')\n",
    "\n",
    "# Assign the penultimate line of the last dataframe to df\n",
    "df = ......................\n",
    "plt.plot(df....., df........., '.-', linewidth = 2, marker = 10)\n",
    "plt.xlabel('Year')\n",
    "plt.ylabel('No Competitors')\n",
    "plt.legend(['.....', '..........'])\n",
    "fig = plt.gcf()\n",
    "fig.set_size_inches(10, 6)"
   ]
  },
  {
   "cell_type": "code",
   "execution_count": null,
   "id": "90dc507e-e795-481e-8ec1-242b60ecb610",
   "metadata": {},
   "outputs": [],
   "source": [
    "# q14  run this cell to see the example plot \n",
    "ans.q14_get_answer(data)\n"
   ]
  },
  {
   "cell_type": "markdown",
   "id": "a653d629-3324-4792-a747-d44b86cbd95f",
   "metadata": {},
   "source": [
    "### Participation in the summer games by gender"
   ]
  },
  {
   "cell_type": "code",
   "execution_count": null,
   "id": "4f5fd973-9307-4c05-91d8-a588b9dae73c",
   "metadata": {},
   "outputs": [],
   "source": [
    "\n",
    "data[(data['Season'] == \"Summer\") & (..........')] # filter data by season to summer and sex to male \n",
    ".................. .groupby(by  = 'Year').nunique() # group the previous answer by year by number of  unique values \n",
    "\n",
    "# # reset the index and select on 'Year' and 'ID' of previous answer\n",
    "data[(data['Season'] == \"Summer\") & (data['Sex'] == 'M')].groupby(by  = 'Year').nunique()...........[[........,   ...........]] \n",
    "\n",
    "# # rename the id column to particpants of the previous answer \n",
    "......................rename(columns = {'ID':'............'}) "
   ]
  },
  {
   "cell_type": "markdown",
   "id": "a2ededbf-07b7-49c2-a308-3124d6cb4b17",
   "metadata": {},
   "source": [
    "\n",
    "\n",
    "\n",
    "<div class=\"alert alert-block alert-warning\">\n",
    "<b>Question</b>\n",
    "q15 How many males were there in the year 1906? <br>\n",
    "</div>"
   ]
  },
  {
   "cell_type": "code",
   "execution_count": null,
   "id": "ebef1e79-a6c9-40d2-830a-46a5628e8b08",
   "metadata": {},
   "outputs": [],
   "source": [
    "# Use this cell to repeat this process to show pariticpation by year for female athletes\n",
    "\n",
    "\n",
    "\n"
   ]
  },
  {
   "cell_type": "code",
   "execution_count": null,
   "id": "6678dc27-7479-4ff4-ab1a-dc33c4137925",
   "metadata": {},
   "outputs": [],
   "source": [
    "# q15 How many males were there in the year 1906\n",
    "# ans.q15_check_answer()\n",
    "#ans.q15_get_answer()\n"
   ]
  },
  {
   "cell_type": "markdown",
   "id": "c413cee6-5414-4c33-968c-14e9ae258d31",
   "metadata": {},
   "source": [
    "\n",
    "\n",
    "<div class=\"alert alert-block alert-warning\">\n",
    "<b>Question</b>\n",
    " **q 16** : Plot a graph of male and female particpation against year? <br>\n",
    "</div>"
   ]
  },
  {
   "cell_type": "code",
   "execution_count": null,
   "id": "d9826323-84bd-49c4-bd4f-d3c4cf8aa6de",
   "metadata": {},
   "outputs": [],
   "source": [
    "# create a temporary dataframe for the partipation by year of male athletes ( copy the last line of code from 4 cells above)\n",
    "df = ...........\n",
    "plt.plot(df......, df........ , color='b',marker='o',label='Male Athletes')# plot year against participants columns\n",
    "\n",
    "# create a temporary dataframe for the partipation by year of female athletes ( copy the last line of code from 2 cells above)\n",
    "df = ..............\n",
    "plt.plot..................... # use plot example above to help here \n",
    "\n",
    "plt.ylabel(...........) # y axis label . eneter as a string\n",
    "plt.legend(loc='upper left')\n",
    "plt.title(\"......................\") #plot title enter as a string "
   ]
  },
  {
   "cell_type": "code",
   "execution_count": null,
   "id": "a649ab19-f2c7-4f5d-9d9d-902722833991",
   "metadata": {},
   "outputs": [],
   "source": [
    "# Show grpah for q16\n",
    "ans.q16_check_answer(data)\n"
   ]
  },
  {
   "cell_type": "markdown",
   "id": "28e4f4df-aab0-47fd-94c2-681ce2f73100",
   "metadata": {},
   "source": [
    "### Countries with the most participation at the games"
   ]
  },
  {
   "cell_type": "code",
   "execution_count": null,
   "id": "b45829ec-9b39-4f6a-ab49-6e0d9098e361",
   "metadata": {},
   "outputs": [],
   "source": [
    "..............groupby(by = 'Country').nunique()  # filter data by summer games then  group by country aggregating by number of unique values\n",
    "# Take the output of the last line reset the index to make country a column again\n",
    "...................reset_index() \n",
    " # Select only the year and country column from the output of the last line\n",
    "...............................[[......., ...]]\n",
    "# sort the data from the last step by year ascending true.\n",
    "...............sort_values('Year', ascending = .......)\n",
    "# rename year 'Num_countries' and show the top 60 countries . start with the output of the last line of code. You can use the \\ here to break a line if needed. \n",
    "............................... \\\n",
    "..................................(columns ={'.....r' : '...........s'}).head(60)\n",
    "\n"
   ]
  },
  {
   "cell_type": "markdown",
   "id": "b0d39085-c2a0-451f-8cfe-f5ce520d0391",
   "metadata": {},
   "source": [
    "\n",
    "<div class=\"alert alert-block alert-warning\">\n",
    "<b>Question</b>\n",
    "q17 :Plot a graph of number of editions to the games (number of olympics a country has attended) on y axis and top 6 countries on the x axis? <br>\n",
    "</div>"
   ]
  },
  {
   "cell_type": "code",
   "execution_count": null,
   "id": "71587400-f02f-445e-8471-3f469332bee0",
   "metadata": {},
   "outputs": [],
   "source": [
    "# q 17 Plot the figure here - bar plot of top 60 countries on x year on y\n",
    "\n",
    "# create a temp dataframe called df that will equal the last line of your last cell\n",
    "df = .........................\n",
    "fig = plt.figure(figsize = (15, 10))\n",
    "plt.bar(.........  , ..........,color=sns.cubehelix_palette(60,start=4,rot=-.005,reverse=True)) # plot country against num_countries\n",
    "plt.gca().invert_yaxis()\n",
    "plt.xticks(rotation=90)\n",
    "plt.xlabel('Country')\n",
    "plt.ylabel('Number of Editions')\n",
    "plt.title('Countries with Most Participation')\n",
    "plt.gca().invert_yaxis()"
   ]
  },
  {
   "cell_type": "code",
   "execution_count": null,
   "id": "b01581b5-a49e-486e-baf9-34765173d027",
   "metadata": {},
   "outputs": [],
   "source": [
    "# Show grpah for q17\n",
    "ans.q17_check_answer(data)\n"
   ]
  },
  {
   "cell_type": "markdown",
   "id": "d40f5744-ee28-454c-8002-e2b7a9fa6ac0",
   "metadata": {},
   "source": [
    "### Investigate which country hosted the most games?\n"
   ]
  },
  {
   "cell_type": "markdown",
   "id": "7761a4a1-123d-44ea-b71b-11e6c274edfa",
   "metadata": {},
   "source": [
    "\n",
    "<div class=\"alert alert-block alert-warning\">\n",
    "<b>Question</b>\n",
    "q18 :plot a bar graph of country against frequency of hosting the games? <br>\n",
    "</div>"
   ]
  },
  {
   "cell_type": "code",
   "execution_count": null,
   "id": "5bdc8e1b-837d-433d-8176-5aa5f7a4497f",
   "metadata": {},
   "outputs": [],
   "source": [
    "# plot a bar graph of country against frequency of hosting the games\n",
    "\n",
    "# select only summer games with a filter and the select year and host country columns and drop duplicate entries Call this df\n",
    "df = ...............[['.......','.............']].drop_duplicates()  # \n",
    "# use a countplot set y to the Host_country, the data to hosts and the order to hosts['Host_Country'].value_counts().index\n",
    "sns.countplot(y='.............',data=df,order = df['Host_Country'].value_counts().index,\n",
    "              palette=sns.cubehelix_palette(20,start=5,rot=-.25,reverse=True))\n",
    "plt.xlabel('Frequency of hosting')"
   ]
  },
  {
   "cell_type": "code",
   "execution_count": null,
   "id": "9cb46592-d73a-4d9a-b637-48229f6715c2",
   "metadata": {},
   "outputs": [],
   "source": [
    "# Show grpah for q18\n",
    "ans.q18_check_answer(hosts)"
   ]
  },
  {
   "cell_type": "markdown",
   "id": "9eb459b8-ed09-4526-9fb3-2e90ec0c959f",
   "metadata": {},
   "source": [
    "## Athlete participation by country"
   ]
  },
  {
   "cell_type": "markdown",
   "id": "33a5af68-df45-420e-9cfa-5a90f61c52f9",
   "metadata": {},
   "source": [
    "### The task is to plot the number of particpants by their location on a world map from 1920 compared to 2016"
   ]
  },
  {
   "cell_type": "markdown",
   "id": "f62d1fdc-57cc-400d-92a0-2fb299b507af",
   "metadata": {},
   "source": [
    "Bring in the function get bounding box country from our answers script"
   ]
  },
  {
   "cell_type": "code",
   "execution_count": null,
   "id": "41394651-0568-44a9-b4bb-67719a94cf25",
   "metadata": {},
   "outputs": [],
   "source": [
    "from olympics_answers import OlympicToolKit as otk"
   ]
  },
  {
   "cell_type": "code",
   "execution_count": null,
   "id": "d2abfe3d-bb18-4bb7-8826-990977369b8d",
   "metadata": {},
   "outputs": [],
   "source": [
    "countries = list(................)#  get the number of unqiue countries from summer games only. Filter by season and use unique()\n"
   ]
  },
  {
   "cell_type": "markdown",
   "id": "4871c50a-67f6-435d-9b6a-d140cbbc50c8",
   "metadata": {},
   "source": [
    "<div class=\"alert alert-block alert-warning\">\n",
    "<b>NOTE</b>\n",
    "If the cell below throws an error it could be a permissions issue. If this is the case move onto the section investigating medals and the olympcs\n",
    "</div>"
   ]
  },
  {
   "cell_type": "code",
   "execution_count": null,
   "id": "9655949a-fcd6-463d-830f-6e4b01372730",
   "metadata": {},
   "outputs": [],
   "source": [
    "from tqdm import tqdm #  package for progress bars\n",
    "long = [] # empty list to store country longitude\n",
    "lat = [] # empty list to store country latitude \n",
    "\n",
    "for i in tqdm(range(len(countries))):\n",
    "    country = countries[i]\n",
    "    try:\n",
    "        coord = otk.get_boundingbox_country(country)\n",
    "        long......... # append coord[0] to long list\n",
    "        lat........... # append coord[1] to lat list\n",
    "    except:\n",
    "        lat.append(np.NaN)\n",
    "        long.append(np.NaN)\n"
   ]
  },
  {
   "cell_type": "code",
   "execution_count": null,
   "id": "8445cebb-5364-4e56-9dee-06e5b380cd13",
   "metadata": {},
   "outputs": [],
   "source": [
    "# create a dataframe called long_lat with the data from countries, long ,and lat list and columns =  ['Country', 'long', 'lat']\n",
    "long_lat = pd.DataFrame({'Country': countries, 'long': long, 'lat': lat},columns = ['.......', '....', '........'])\n"
   ]
  },
  {
   "cell_type": "markdown",
   "id": "26485220-6c53-4bcd-9db1-a82aefd19174",
   "metadata": {},
   "source": [
    "<div class=\"alert alert-block alert-warning\">\n",
    "<b>Question</b>\n",
    "q19 :Count how many countries we do not have coordinates for? <br>\n",
    "</div>"
   ]
  },
  {
   "cell_type": "code",
   "execution_count": null,
   "id": "c504c8c7-b794-4f57-8080-e1927e168c72",
   "metadata": {},
   "outputs": [],
   "source": [
    "# Count how many countries we do not have coordinates for\n",
    "long_lat[.............isna()].count()\n",
    "\n",
    "\n",
    "# ans.q19_check_answer()\n",
    "#ans.q19_get_answer()"
   ]
  },
  {
   "cell_type": "markdown",
   "id": "486252d5-88e6-4f62-a150-b6f423bd0b0f",
   "metadata": {},
   "source": [
    "The countries we do not have coordinates we are going to drop for this analysis"
   ]
  },
  {
   "cell_type": "code",
   "execution_count": null,
   "id": "ebb7e220-342b-4665-814b-d0f3d2de905b",
   "metadata": {},
   "outputs": [],
   "source": [
    "long_lat............ # drop the records in long lat that we do not have coordinates for . ie drop null wavlues . set inplace = True"
   ]
  },
  {
   "cell_type": "markdown",
   "id": "ce37dcaf-98f3-4c54-8b18-2faa3ba0a2de",
   "metadata": {},
   "source": [
    "We now need to join these countries to the amount of participants in the year 1920 and the year 2016\n"
   ]
  },
  {
   "cell_type": "code",
   "execution_count": null,
   "id": "d460466f-f504-40e0-a041-5acffc50683d",
   "metadata": {},
   "outputs": [],
   "source": [
    " #  create a new dataframe where you group data by year and country to get year and participant number\n",
    "# Depending on your method you will probably have to reset the index. \n",
    "particpants = data.groupby(by = ['......', '..........'])[['...........']]...........().reset_index() \n"
   ]
  },
  {
   "cell_type": "code",
   "execution_count": null,
   "id": "59cec3de-5719-427d-84bc-4efb73e30e1d",
   "metadata": {},
   "outputs": [],
   "source": [
    "part = pd.merge(.........., .........., on =..........) #  merge particpants onto longlat\n",
    "part_1920 = part[part['Year'] == 1920] # filter on 1920\n",
    "part_2016 = ............... # filter on 2016\n",
    "part_1920.rename(columns = {'ID': 'participants'}, inplace = True) #  rename ID participants\n",
    "part_2016................................#  rename ID participants"
   ]
  },
  {
   "cell_type": "code",
   "execution_count": null,
   "id": "058864c7-e8fd-4cfb-9efa-8b1733dedbb0",
   "metadata": {},
   "outputs": [],
   "source": [
    "from mpl_toolkits.basemap import Basemap\n",
    "import matplotlib.pyplot as plt\n",
    "fig = plt.figure(figsize=(20, 10))\n",
    "plt.subplots_adjust(left=0.02, right=0.98, top=0.98, bottom=0.00)\n",
    "\n",
    "m = Basemap(projection='robin',lon_0=0, resolution='c')\n",
    "m.fillcontinents(color='gray',lake_color='white')\n",
    "m.drawcoastlines()\n",
    "\n",
    "\n",
    "x, y = m(part_1920.lat, part_1920.long)\n",
    "part_frame_1920 = pd.DataFrame({'x': x, 'y': y, 'participants': part_1920.participants.values}, columns = ['x', 'y', 'participants'])\n",
    "x, y = m(part_2016.lat, part_2016.long)\n",
    "part_frame_2016 = pd.DataFrame({'x': x, 'y': y, 'participants': part_2016.participants.values}, columns = ['x', 'y', 'participants'])\n",
    "\n",
    "plt.scatter(\n",
    "    x = part_frame_1920.x, \n",
    "    y = part_frame_1920.y, \n",
    "    s= part_frame_1920.participants, \n",
    "    c=part_frame_1920.participants, \n",
    "    cmap=\"Accent\", \n",
    "    alpha=0.6, \n",
    "    edgecolors=\"white\", \n",
    "    linewidth=2);\n",
    "plt.colorbar()\n",
    "plt.title('Number of Participants 1920')\n",
    "plt.show()\n",
    "\n",
    "fig = plt.figure(figsize=(20, 10))\n",
    "plt.subplots_adjust(left=0.02, right=0.98, top=0.98, bottom=0.00)\n",
    "\n",
    "m = Basemap(projection='robin',lon_0=0, resolution='c')\n",
    "m.fillcontinents(color='gray',lake_color='white')\n",
    "m.drawcoastlines()\n",
    "\n",
    "plt.scatter(\n",
    "    x = part_frame_2016.x, \n",
    "    y = part_frame_2016.y, \n",
    "    s=part_frame_2016.participants, \n",
    "    c=part_frame_2016.participants, \n",
    "    cmap=\"Accent\", \n",
    "    alpha=0.6, \n",
    "    edgecolors=\"white\", \n",
    "    linewidth=2);\n",
    "plt.colorbar()\n",
    "plt.title('Number of Participants 1920')\n",
    "plt.show()"
   ]
  },
  {
   "cell_type": "markdown",
   "id": "8a64ea9d-adbc-4c0d-a86b-3023d92b9923",
   "metadata": {},
   "source": [
    "## Investigating medals at the olympic games"
   ]
  },
  {
   "cell_type": "code",
   "execution_count": null,
   "id": "c4723bad-7364-47bd-a069-f1753c399be4",
   "metadata": {},
   "outputs": [],
   "source": [
    "medals = data[ (data['Season'] == 'Summer') & (........... != 'DNW')] #  create a new dataframe that only contains the records where athletes won medals from summer games\n",
    "medals.head()"
   ]
  },
  {
   "cell_type": "markdown",
   "id": "a9b900eb-e4c2-4f79-a013-111d9a406625",
   "metadata": {},
   "source": [
    "It is suspected that for the team events more than one medals are given out. We do not want to count these when counting medal tally per country. So we need to find which are these team events"
   ]
  },
  {
   "cell_type": "code",
   "execution_count": null,
   "id": "6d5daaa5-f5cd-416f-a89f-9da4b9b7d52e",
   "metadata": {},
   "outputs": [],
   "source": [
    "medals[..........] = 1 # # create a new column in medals called 'Medal_Won' and assing it the value 1\n"
   ]
  },
  {
   "cell_type": "code",
   "execution_count": null,
   "id": "d04f9ee2-596f-4318-9838-e435a68be158",
   "metadata": {},
   "outputs": [],
   "source": [
    "# Q 20\n",
    "# create a pivot table called team events that has columns of Medal, Country, Year, Event, Bronze, Gold, Silver\n",
    "# index = ['Country', 'Year', 'Event']\n",
    "#columns = 'Medal',\n",
    "#values = 'Medal_Won', \n",
    "#aggfunc = 'sum'\n",
    "team_events = pd.pivot_table(medals,index = .........., columns = ........., values = ..........., aggfunc = 'sum')\n",
    "team_events............ # reset the index of your pivot table\n",
    "team_events............ # use fillna to convert na values to 0"
   ]
  },
  {
   "cell_type": "code",
   "execution_count": null,
   "id": "d314bb0b-e284-4311-9e4f-7b813e6aaf7a",
   "metadata": {},
   "outputs": [],
   "source": [
    "# Q20 # create a pivot table called team events that has columns of Medal, Country, Year, Event, Bronze, Gold, Silver. \n",
    "# What country won the Bronze Medal for Taekwondo Men's Flyweight in 2008?\n",
    "# ans.q20_get_answer() # enter answer as string"
   ]
  },
  {
   "cell_type": "markdown",
   "id": "0c610dd7-6a64-4311-be8b-09578d88a75e",
   "metadata": {},
   "source": [
    "We can now tell if it is a team event by looking at all events where the medal tally is greater than 1 "
   ]
  },
  {
   "cell_type": "code",
   "execution_count": null,
   "id": "a5fff8af-2ffa-4178-aaaa-8cc3dc8ebb27",
   "metadata": {},
   "outputs": [],
   "source": [
    "list_team_events = list(team_events[.........['Event']........ )# create a list of team events. filter by gold greater than 1 then select unique events\n",
    "del team_events #  clean up the work space by getting rid of team events using del variable"
   ]
  },
  {
   "cell_type": "markdown",
   "id": "3a78b2ac-0a15-43fb-b89c-dbc8a3fb9e22",
   "metadata": {},
   "source": [
    "<div class=\"alert alert-block alert-warning\">\n",
    "<b>Question</b>\n",
    "q21 : How many unique team events are there ? </div>"
   ]
  },
  {
   "cell_type": "code",
   "execution_count": null,
   "id": "6c9ecb22-0474-4ee2-960a-3135095334f7",
   "metadata": {},
   "outputs": [],
   "source": [
    "# q21 : How many unique team events are there\n",
    "# ans.q21_check_answer()\n",
    "# ans.q21_get_answer(medals)\n"
   ]
  },
  {
   "cell_type": "markdown",
   "id": "b7a50131-c5db-4f66-8a12-56e4ee961190",
   "metadata": {},
   "source": [
    "We now need to adjust the medals table so that we have a proxy column for team sport and individual. \n",
    "If the event was a team sport it will take a value of 1 in the team sport colum and 0 in individual\n",
    "If the event was a indivdual sport it will take a value of 0 in the team sport and 1 in the individual\n",
    "\n"
   ]
  },
  {
   "cell_type": "code",
   "execution_count": null,
   "id": "8063600f-3c59-4376-a603-56639a5b074f",
   "metadata": {},
   "outputs": [],
   "source": [
    "# we will use numpy where function for this problem\n",
    "# lets look at this first \n",
    "print(np.where(medals.Event == \"Tug-Of-War Men's Tug-Of-War\", 1, 0) )\n",
    "# The synteax of np.where. First argument is to evaluate a boolean, the second argument is the value you want if evluates to True and the third\n",
    "# argument is if the expression evalutates to be False. "
   ]
  },
  {
   "cell_type": "code",
   "execution_count": null,
   "id": "3d8cb3a6-1f0f-4d2e-9106-7c059c8b08d9",
   "metadata": {},
   "outputs": [],
   "source": [
    "# The map function can be used to evaluate a function for each record in a dataframe\n",
    "\n",
    "# The lambda function can be used to evaluate afunction to true or false depending on if an event is in list team sport \n",
    "\n",
    "# Use np. where wrapped around a map function that contains a lambda function that sets values to be either 1 or 0 if the expression is true or false. \n",
    "\n",
    "medals['Team_Event'] = np.where(medals.Event.map(lambda x: .... in .....  ), 1, .....)\n",
    "medals['Individual_Event'] = np.where(medals.Team_Event, ......, ......)\n",
    "medals"
   ]
  },
  {
   "cell_type": "code",
   "execution_count": null,
   "id": "cf3e3d2e-c01d-41a6-bc70-6c5724f8cfb4",
   "metadata": {},
   "outputs": [],
   "source": [
    "# We are going to make a medals tally\n",
    "# It is possible that in the same year noc country sport event and medal type that two athletes received the same medal even in individual event. \n",
    "# This can happen where athletes are tied for equal position. \n",
    "# This is shown in one case below\n",
    "medals[(medals['Year'] == 1896) &\n",
    "       (medals['Country'] == 'Greece') &\n",
    "       (medals['Sport'] == \"Fencing\") &\n",
    "      (medals['Event'] == \"Fencing Men's Foil, Individual\") ]"
   ]
  },
  {
   "cell_type": "markdown",
   "id": "85bc6926-8f65-4990-a89b-56545f2db87c",
   "metadata": {},
   "source": [
    "<div class=\"alert alert-block alert-warning\">\n",
    "<b>Question</b>\n",
    "q 22 Which country has the highest total medal tally in all time. Submit it as a string of the NOC ? </div>"
   ]
  },
  {
   "cell_type": "code",
   "execution_count": null,
   "id": "8658c5be-c879-4b09-88f2-0effeeba557e",
   "metadata": {},
   "outputs": [],
   "source": [
    "#q 22 Which country has the highest total medal tally in all time. Submit it as a string of the NOC\n",
    "\n",
    "# Given what we found above where two athletes can receive the same medal in same event we need to group our data bu the following columns\n",
    "#['Year', 'NOC', 'Country','Sport','Event', 'Medal', 'Sex']\n",
    "# Pick the correct aggregation function\n",
    "# reset the index at the end of it \n",
    "# name this result medal_tally\n",
    "# set this inplace to True\n",
    "\n",
    "medals_tally = medals.groupby(..........).agg(........).reset_index()\n",
    "\n",
    "# When it is a team event we shall expect the medal won to be greater than one and the team event will also be the same value. We want this to be counted as one country medal\n",
    "# To calculate the total medal count we can introduce a new column called medal count that will be the sum of medal_won / medals_tally added to the individual event\n",
    "\n",
    "medals_tally['Medal_Count'] = ....................\n",
    "# view medals_tally using .head()\n",
    "medals_tally.head()\n"
   ]
  },
  {
   "cell_type": "code",
   "execution_count": null,
   "id": "edfca893-83bf-47ee-9f73-750b9f4e48b3",
   "metadata": {},
   "outputs": [],
   "source": [
    "# q22 continued\n",
    "# TO work out which country has the most tally we need to group by country and order by medal count\n",
    "# set this inplace to True\n",
    "medals_tally.groupby(..........).....()[['.........']].reset_.....().sort_.....(by = 'Medal_Count', ascending =....., implace = ....)\n",
    "\n",
    "# q22 How many males were there in the year 1906\n",
    "# ans.q22_check_answer()\n",
    "# ans.q22_get_answer()"
   ]
  },
  {
   "cell_type": "markdown",
   "id": "81b66a0b-c98f-43c0-a9f4-d6203f339285",
   "metadata": {},
   "source": [
    "<div class=\"alert alert-block alert-warning\">\n",
    "<b>Question</b>\n",
    "q 23 plot the top 10 highest coutnries by their medal count ? </div>"
   ]
  },
  {
   "cell_type": "code",
   "execution_count": null,
   "id": "8e100925-bd4b-44bd-bf9e-3a384c5e8db1",
   "metadata": {},
   "outputs": [],
   "source": [
    "# q 23 plot the top 10 highest coutnries by their medal count\n",
    "top_countries = ............head(10)\n",
    "top_countries.plot(.............,legend=None,figsize=(10,6),color=sns.cubehelix_palette(10,reverse=True))\n",
    "plt.xticks(rotation=60)\n",
    "plt.xlabel('Country')\n",
    "plt.ylabel('Medals')\n",
    "plt.title('Medals by Country')\n",
    "\n",
    "\n",
    "# ans.q23_check_answer(medals_tally)"
   ]
  },
  {
   "cell_type": "markdown",
   "id": "cb856909-6f36-4dce-87df-6740bc4cc13c",
   "metadata": {},
   "source": [
    "### Is there an advantage to being the host nation?\n",
    "\n",
    "To investigate this we shall look at the total medals won by the host nation at their games compared to the games before"
   ]
  },
  {
   "cell_type": "code",
   "execution_count": null,
   "id": "a7452977-e8e0-4df8-a636-fed00908e3ec",
   "metadata": {},
   "outputs": [],
   "source": [
    "# create a table called grouped_medals. This will be the medals tally grouped by ['Year', 'Country', 'Medal_Count'] using agg sum .  Remember to reset the index . Should be a table of year country and medal count columns\n",
    "grouped_medals  = pd.DataFrame(medals_tally.groupby(.......)['..........'].........()............())\n"
   ]
  },
  {
   "cell_type": "code",
   "execution_count": null,
   "id": "cbcf32d0-8ed8-423c-9fdd-a394afa8df89",
   "metadata": {},
   "outputs": [],
   "source": [
    "# create a table with columns of year host country and country from the data table season = summer. Create this from the summer table and drop any duplicate values accross these columns\n",
    "host_nations = data[data['Season'] == 'Summer'][['....', '.....',  '.......']].drop_duplicates()\n",
    "# overwrite host_nations with a df that only contains entries to host df where the host country equaled the country\n",
    "host_nations = ost_nations.loc[host_nations['.............'] == .................]\n",
    "host_nations['Prev_Year'] = host_nations['Year'] ............         # add a column for the previous 4 years \n",
    "host_nations['Next_Year'] = host_nations['Year'] + 4 # add a column for the next 4 years \n",
    "\n",
    "# create a df called host medals. This will be created from merging host nations with  grouped medals on both the year and country \n",
    "host_medals = host_nations.merge(........, on =['.......','......'], how='left') \n",
    "# # rename 'Medal_Count_x' to 'Medal\n",
    "host_medals.rename(columns = {'.......':'..........'},inplace=True)\n",
    "# now merge this host_medal df with grouped medals but on left_on=['Prev_Year','Country'],right_on=['Year','Country']\n",
    "host_medals = host_medals.merge(.............., left_on  .........,right_on= ............,how='left')\n",
    "\n",
    "# drop the column year_y it is not needed . set this inplace = True\n",
    "host_medals.drop....................\n",
    "# # rename host medals Year_x to year and Medal_Count to 'Medal_Count_Prev'. Set this inplace\n",
    "host_medals........................\n",
    "\n",
    "# Repeat this process to add on the next year\n",
    "# merge the host_medals table to the medals_grouped dataframe connecting the left on left_on=['Next_Year','Country'],right_on=['Year','Country']\n",
    "host_medals = ...................\n",
    "# Remove the year_y column\n",
    "host_medals..................\n",
    "# rename {'Year_x': 'Year','Medal_Count':'Medal_Count_Next'}\n",
    "host_medals......................\n",
    "\n",
    "host_medals.head()"
   ]
  },
  {
   "cell_type": "code",
   "execution_count": null,
   "id": "28228fb4-ac58-442b-bae9-2ea38571b052",
   "metadata": {},
   "outputs": [],
   "source": [
    "# remove the ['Prev_Year','Next_Year'] from the host medals table\n",
    "host_medals.drop(['.............','..........'],axis=1,inplace=True)\n"
   ]
  },
  {
   "cell_type": "code",
   "execution_count": null,
   "id": "a35cd574-abac-42f1-a174-a772d2de1ddb",
   "metadata": {},
   "outputs": [],
   "source": [
    "host_medals = host_medals.................('Year') # sort the host medals table by year and look at the results\n",
    "host_medals"
   ]
  },
  {
   "cell_type": "code",
   "execution_count": null,
   "id": "e2fbb68c-cfbf-4df1-a83f-9513f8508f92",
   "metadata": {},
   "outputs": [],
   "source": [
    "host_medals.d............. # drop nan in this dataset. inplace set to True\n",
    "host_medals['Avg'] = host_medals.apply(lambda ..... : (.....['Medal_Count_Prev'] + ......['Medal_Count_Next']) /2, axis = 1) # create a column that is the average medal count between previous and next games\n",
    "host_medals['Perc_Increase_Host'] = 100*(.......... - ..............) / .............. # create a percentage difference \n",
    "host_medals................. # get the mean of perc_increase_host"
   ]
  },
  {
   "cell_type": "markdown",
   "id": "e65822c2-34e1-4639-a699-dc8eb819a343",
   "metadata": {},
   "source": [
    "<div class=\"alert alert-block alert-warning\">\n",
    "<b>Question</b>\n",
    "q24 What is the average percentage increase in medals between the host nation and their medals as an average for games either side of the host games input as an integer?? </div>"
   ]
  },
  {
   "cell_type": "code",
   "execution_count": null,
   "id": "da482825-6d34-4b11-97b2-8d763d82d74f",
   "metadata": {},
   "outputs": [],
   "source": [
    "# q24 What is the average percentage increase in medals between the host nation and their medals as an average for games either side of the host games input as an integer?\n",
    "# ans.q24_check_answer()\n",
    "# ans.q24_get_answer()"
   ]
  },
  {
   "cell_type": "markdown",
   "id": "f915107e-82b0-40b7-8697-b114aafd9a97",
   "metadata": {},
   "source": [
    "<div class=\"alert alert-block alert-warning\">\n",
    "<b>Question</b>\n",
    "q 25 Do we see an increase in medal count for the games after being host compared to before? </div>"
   ]
  },
  {
   "cell_type": "code",
   "execution_count": null,
   "id": "6771975b-fa68-4dcc-a67c-d384e0d384b7",
   "metadata": {},
   "outputs": [],
   "source": [
    " # q 25 Do we see an increase in medal count for the games after being host compared to before?\n",
    "# On average what is the percentage difference of medals after hosting a games relative to before?\n",
    "host_medals['Perc_Increase_after_before'] = ............................ # create a percentage difference \n",
    "host_medals.....................       # calculate the mean\n",
    "\n",
    "# ans.q25_check_answer() # enter as integer\n",
    "# ans.q25_get_answer() # enter as integer"
   ]
  },
  {
   "cell_type": "markdown",
   "id": "ec9effa4-b18d-410a-8b18-fd5dd41309cb",
   "metadata": {},
   "source": [
    "### Investigate if there is a relationship between team size and medal count?"
   ]
  },
  {
   "cell_type": "code",
   "execution_count": null,
   "id": "b344113a-c1e1-4c3e-97d6-d64313a76599",
   "metadata": {},
   "outputs": [],
   "source": [
    "# group data from summer games  by country and year using a nunique aggregation function on ID column and reset the index\n",
    "team_size = data[data['Season'] == 'Summer'].groupby(..........).nunique()[['ID']].r..........() \n",
    "# rename the columns 'ID' to 'Team_Size'\n",
    "team_size = team_size.rename(..............)\n",
    "# group the medals tally by country and year using a sum aggregate function\n",
    "grouped_medal_tally = ............................\n",
    "# reset the index of grouped medal tally\n",
    "grouped_medal_tally.reset................\n",
    "# select the following columns from the grouped medal tally ['Country', 'Year', 'Medal_Count']\n",
    "grouped_medal_tally = ......................\n",
    "# join grouped medal tally onto team size using an outer join on country and year\n",
    "team_size = .................merge(........., on =['Country', 'Year'], how = 'outer')\n",
    "# replace values in medal count that are np.NaN to 0\n",
    "team_size['Medal_Count'] = ..............replace(np.NaN, 0)\n",
    "# observe output using .head()\n",
    "team_size.head()"
   ]
  },
  {
   "cell_type": "markdown",
   "id": "0eaffc02-4cae-4b84-823b-efb3308bc4dc",
   "metadata": {},
   "source": [
    "<div class=\"alert alert-block alert-warning\">\n",
    "<b>Question</b>\n",
    "q26 Plot a scatter graph of team size against medal count? </div>"
   ]
  },
  {
   "cell_type": "code",
   "execution_count": null,
   "id": "5f07471f-43f8-4994-8903-9d678427e3bf",
   "metadata": {},
   "outputs": [],
   "source": [
    "# q26 Plot a scatter graph of team size against medal count\n",
    "# kind is scatter graph \n",
    "# x is team size and y is medal count\n",
    "team_size.plot(kind = '.........', x = '........',  y = '.....', cmap = 'winter', alpha = 0.3)\n",
    "# q26_get_answer(team_size)"
   ]
  },
  {
   "cell_type": "markdown",
   "id": "349516af-0757-466c-bf93-a111d17e1040",
   "metadata": {},
   "source": [
    "# Summary"
   ]
  },
  {
   "cell_type": "markdown",
   "id": "6aeca0df-8e97-40ee-8c05-12008397f217",
   "metadata": {},
   "source": [
    "In this workbook we have used numerous pandas functions in order to gain insights into the participants and the countries who participate at the olympics. \n",
    "In the next notebook we will investigate if we can make predictions on a countries medal count based on some of the analysis we have done "
   ]
  },
  {
   "cell_type": "code",
   "execution_count": null,
   "id": "d03f96f2-47ce-48dc-9643-fd735406cd89",
   "metadata": {},
   "outputs": [],
   "source": []
  }
 ],
 "metadata": {
  "kernelspec": {
   "display_name": "Python 3 (ipykernel)",
   "language": "python",
   "name": "python3"
  },
  "language_info": {
   "codemirror_mode": {
    "name": "ipython",
    "version": 3
   },
   "file_extension": ".py",
   "mimetype": "text/x-python",
   "name": "python",
   "nbconvert_exporter": "python",
   "pygments_lexer": "ipython3",
   "version": "3.9.12"
  }
 },
 "nbformat": 4,
 "nbformat_minor": 5
}
